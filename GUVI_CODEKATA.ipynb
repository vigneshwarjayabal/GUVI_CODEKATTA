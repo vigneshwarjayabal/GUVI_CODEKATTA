{
  "nbformat": 4,
  "nbformat_minor": 0,
  "metadata": {
    "colab": {
      "provenance": [],
      "authorship_tag": "ABX9TyOrFyHKZD98hh7yPT2nNsIB",
      "include_colab_link": true
    },
    "kernelspec": {
      "name": "python3",
      "display_name": "Python 3"
    },
    "language_info": {
      "name": "python"
    }
  },
  "cells": [
    {
      "cell_type": "markdown",
      "metadata": {
        "id": "view-in-github",
        "colab_type": "text"
      },
      "source": [
        "<a href=\"https://colab.research.google.com/github/vigneshwarjayabal/GUVI_CODEKATTA/blob/main/GUVI_CODEKATA.ipynb\" target=\"_parent\"><img src=\"https://colab.research.google.com/assets/colab-badge.svg\" alt=\"Open In Colab\"/></a>"
      ]
    },
    {
      "cell_type": "markdown",
      "source": [
        "#**String**"
      ],
      "metadata": {
        "id": "cLYLsV5ToAh_"
      }
    },
    {
      "cell_type": "markdown",
      "source": [
        "**QUESTION1**\n",
        "A palindromic string is a string which is same when read from left to right and also from right to left.\n",
        "\n",
        "write a code to check a string is palindrom or note"
      ],
      "metadata": {
        "id": "a_1xr03YOiwU"
      }
    },
    {
      "cell_type": "code",
      "execution_count": null,
      "metadata": {
        "colab": {
          "base_uri": "https://localhost:8080/"
        },
        "id": "yJweBghoOeYt",
        "outputId": "635de7b3-523b-4705-f6e6-2988c080cf34"
      },
      "outputs": [
        {
          "output_type": "stream",
          "name": "stdout",
          "text": [
            "repaper\n",
            "repaper is palindrom\n"
          ]
        }
      ],
      "source": [
        "S = input()\n",
        "R = S[::-1]\n",
        "\n",
        "if S == R:\n",
        "  print(f\"{S} is palindrom\")\n",
        "else:\n",
        "  print(f\"{S} is not palindrom\")\n"
      ]
    },
    {
      "cell_type": "markdown",
      "source": [
        "**QUESTION 2**\n",
        "\n",
        "WRITE CODE TO REVERSE THE STRING\n",
        "\n"
      ],
      "metadata": {
        "id": "TuUVVCRmQYzl"
      }
    },
    {
      "cell_type": "code",
      "source": [
        "S = input()\n",
        "print(S[::-1])"
      ],
      "metadata": {
        "colab": {
          "base_uri": "https://localhost:8080/"
        },
        "id": "4JOT-BqkPGbk",
        "outputId": "2226e2b8-7c33-4295-ab1d-500912c71054"
      },
      "execution_count": null,
      "outputs": [
        {
          "output_type": "stream",
          "name": "stdout",
          "text": [
            "jennyfer\n",
            "refynnej\n"
          ]
        }
      ]
    },
    {
      "cell_type": "markdown",
      "source": [
        "**QUESTION 3**\n",
        "\n",
        "given a sentence. His task is to delete the two words that comes together and print the sentence so that the words in the output sentence have distinct words compared to their adjacent words. If no words are present in the output sentence print -1"
      ],
      "metadata": {
        "id": "wDZ0hJbbR3tg"
      }
    },
    {
      "cell_type": "code",
      "source": [
        "def remove_adjacent_duplicate_words(sentence):\n",
        "    words = sentence.split()\n",
        "    stack = []\n",
        "\n",
        "    for word in words:\n",
        "        if stack and stack[-1] == word:\n",
        "            stack.pop()  # Remove duplicate\n",
        "        else:\n",
        "            stack.append(word)\n",
        "\n",
        "    result = ' '.join(stack)\n",
        "    return result if stack else '-1'\n",
        "\n",
        "\n",
        "sentence = input()\n",
        "output = remove_adjacent_duplicate_words(sentence)\n",
        "print(output)\n"
      ],
      "metadata": {
        "colab": {
          "base_uri": "https://localhost:8080/"
        },
        "id": "VwDCkNhuQrwK",
        "outputId": "8b6b25f1-27c9-48e5-b376-a8985776ebec"
      },
      "execution_count": null,
      "outputs": [
        {
          "output_type": "stream",
          "name": "stdout",
          "text": [
            "i am john cena cena john\n",
            "i am\n"
          ]
        }
      ]
    },
    {
      "cell_type": "markdown",
      "source": [
        "**Question 4**\n",
        "delete all the repeating characters in string and print the result left"
      ],
      "metadata": {
        "id": "-5eMbECDaK3t"
      }
    },
    {
      "cell_type": "code",
      "source": [
        "def remove_repeating_characters(s):\n",
        "\n",
        "    char_count = {}\n",
        "    for char in s:\n",
        "        char_count[char] = char_count.get(char, 0) + 1\n",
        "\n",
        "\n",
        "    result = ''.join([char for char in s if char_count[char] == 1])\n",
        "\n",
        "\n",
        "    return result\n",
        "\n",
        "\n",
        "sample_input = input()\n",
        "sample_output = remove_repeating_characters(sample_input)\n",
        "print(sample_output)\n"
      ],
      "metadata": {
        "colab": {
          "base_uri": "https://localhost:8080/"
        },
        "id": "_ry7_5_mThyx",
        "outputId": "f7e46703-eaf8-41ca-fa9b-ed2cfb396afc"
      },
      "execution_count": null,
      "outputs": [
        {
          "output_type": "stream",
          "name": "stdout",
          "text": [
            "mississipie\n",
            "mpe\n"
          ]
        }
      ]
    },
    {
      "cell_type": "markdown",
      "source": [
        "**QUESTION 5**\n",
        "\n",
        "Given a string 'S' print the sum of weight of the String. A weight of character is defined as the ASCII value of corresponding character."
      ],
      "metadata": {
        "id": "HflD4D9DhBAB"
      }
    },
    {
      "cell_type": "code",
      "source": [
        "S = input()\n",
        "r = []\n",
        "\n",
        "for i in S:\n",
        "  A = ord(i)\n",
        "  r.append(A)\n",
        "print(sum(r))"
      ],
      "metadata": {
        "colab": {
          "base_uri": "https://localhost:8080/"
        },
        "id": "ejY1oc5Qa1wz",
        "outputId": "781c3367-ef84-47d2-e527-cf045471c451"
      },
      "execution_count": null,
      "outputs": [
        {
          "output_type": "stream",
          "name": "stdout",
          "text": [
            "abc\n",
            "294\n"
          ]
        }
      ]
    },
    {
      "cell_type": "markdown",
      "source": [
        "**QUESTION 6**\n",
        "\n",
        "You are given a string.Your task is to print only the consonants present in the string without affecting the sentence spacings if present. If no consonants are present print -1\n",
        "\n",
        "In English, consonants are all the letters in the alphabet except for the vowels."
      ],
      "metadata": {
        "id": "EGNGckT7jr1g"
      }
    },
    {
      "cell_type": "code",
      "source": [
        "def print_consonants(sentence):\n",
        "\n",
        "    vowels = \"aeiouAEIOU\"\n",
        "\n",
        "\n",
        "    result = []\n",
        "\n",
        "\n",
        "    consonant_present = False\n",
        "\n",
        "\n",
        "    for char in sentence:\n",
        "        if char.isalpha() and char not in vowels:\n",
        "            result.append(char)\n",
        "            consonant_present = True\n",
        "        elif char.isspace():\n",
        "            result.append(char)\n",
        "\n",
        "\n",
        "    if consonant_present:\n",
        "        print(\"\".join(result))\n",
        "    else:\n",
        "        print(\"-1\")\n",
        "\n",
        "\n",
        "sentence = input()\n",
        "print_consonants(sentence)\n"
      ],
      "metadata": {
        "colab": {
          "base_uri": "https://localhost:8080/"
        },
        "id": "3mvFRxlShzIB",
        "outputId": "cff7076b-85ff-4cd4-e77e-3c6f673f055c"
      },
      "execution_count": null,
      "outputs": [
        {
          "output_type": "stream",
          "name": "stdout",
          "text": [
            "i am shrey\n",
            " m shry\n"
          ]
        }
      ]
    },
    {
      "cell_type": "markdown",
      "source": [
        "**QUESTION 7**\n",
        "\n",
        "you are given a string made up of parenthesis only.Your task is to check whether parenthesis are balanced or not.If they are balanced print 1 else print 0"
      ],
      "metadata": {
        "id": "ORNKLIhqnv0r"
      }
    },
    {
      "cell_type": "code",
      "source": [
        "counter = 0\n",
        "s = input()\n",
        "for ch in s:\n",
        "\n",
        "\n",
        "    if ch == '(' or ch == '{' or ch == '[':\n",
        "        counter += 1\n",
        "\n",
        "\n",
        "    elif ch == ')' or ch == '}' or ch == ']' :\n",
        "        counter -= 1\n",
        "\n",
        "if counter == 0:\n",
        "    print(1)\n",
        "else:\n",
        "    print(0)"
      ],
      "metadata": {
        "colab": {
          "base_uri": "https://localhost:8080/"
        },
        "id": "KeBQtTtcljLA",
        "outputId": "04fe6b3f-a8f6-4f81-c66b-97ce40175024"
      },
      "execution_count": null,
      "outputs": [
        {
          "output_type": "stream",
          "name": "stdout",
          "text": [
            "({{}}))\n",
            "0\n"
          ]
        }
      ]
    },
    {
      "cell_type": "markdown",
      "source": [
        "**QUESTION 8**\n",
        "\n",
        "You are given a string. You have to print “Wonder” if the string is wonderful and -1 if it is not. A wonderful string is a string,which is made up of exactly 3 different characters."
      ],
      "metadata": {
        "id": "ixrQQ87HqQC_"
      }
    },
    {
      "cell_type": "code",
      "source": [
        "s = input()\n",
        "c = set(s)\n",
        "\n",
        "if len(c) == 3:\n",
        "  print(\"Wonder\")\n",
        "else:\n",
        "  print(\"-1\")"
      ],
      "metadata": {
        "colab": {
          "base_uri": "https://localhost:8080/"
        },
        "id": "v32ya0ybolSF",
        "outputId": "960f0bcb-28d4-4e59-f314-913cb579c421"
      },
      "execution_count": null,
      "outputs": [
        {
          "output_type": "stream",
          "name": "stdout",
          "text": [
            "aabbccd\n",
            "-1\n"
          ]
        }
      ]
    },
    {
      "cell_type": "markdown",
      "source": [
        "**QUESTION 9**\n",
        "\n",
        "Given a string S, print 'yes' if it has a vowel in it else print 'no'."
      ],
      "metadata": {
        "id": "eRynrF0OscNx"
      }
    },
    {
      "cell_type": "code",
      "source": [
        "def check_vowel_in_string(s):\n",
        "    # Define vowels (both uppercase and lowercase)\n",
        "    vowels = \"aeiouAEIOU\"\n",
        "\n",
        "    # Check if any character in the string is a vowel\n",
        "    for char in s:\n",
        "        if char in vowels:\n",
        "            print(\"yes\")\n",
        "            return\n",
        "\n",
        "    # If no vowel is found, print 'no'\n",
        "    print(\"no\")\n",
        "\n",
        "# Example usage\n",
        "s = input()\n",
        "check_vowel_in_string(s)\n"
      ],
      "metadata": {
        "colab": {
          "base_uri": "https://localhost:8080/"
        },
        "id": "RBkcmVIIrg1z",
        "outputId": "145df25d-35ad-4d64-9ddf-0fff880bbd1e"
      },
      "execution_count": null,
      "outputs": [
        {
          "output_type": "stream",
          "name": "stdout",
          "text": [
            "codekata\n",
            "yes\n"
          ]
        }
      ]
    },
    {
      "cell_type": "markdown",
      "source": [
        "**QUESTION 10**\n",
        "\n",
        "You are given a paragraph.Your task is to print the words that come just after articles."
      ],
      "metadata": {
        "id": "AMvdEhv6uy4n"
      }
    },
    {
      "cell_type": "code",
      "source": [
        "def extract_words_after_articles(paragraph):\n",
        "  articles = [\"a\", \"an\", \"the\"]\n",
        "  words = paragraph.split()\n",
        "  result = []\n",
        "  for i in range(1, len(words)):\n",
        "    if words[i-1].lower() in articles:\n",
        "      result.append(words[i])\n",
        "  if result:\n",
        "     print(\" \".join(result))\n",
        "  else:\n",
        "    print(\"-1\")\n",
        "paragraph = input()\n",
        "extract_words_after_articles(paragraph)\n"
      ],
      "metadata": {
        "colab": {
          "base_uri": "https://localhost:8080/"
        },
        "id": "BNvufc0xtNT0",
        "outputId": "4a63739b-9ce1-4324-b784-f02ae2b8f9c2"
      },
      "execution_count": null,
      "outputs": [
        {
          "output_type": "stream",
          "name": "stdout",
          "text": [
            "the sun rises in the east\n",
            "sun east\n"
          ]
        }
      ]
    },
    {
      "cell_type": "markdown",
      "source": [
        "**QUESTION 14**\n",
        "\n",
        "You are given with a string which comprises of some numbers. Your task is to find the largest integer by converting the string to the corresponding integer."
      ],
      "metadata": {
        "id": "xugicC0rCXMi"
      }
    },
    {
      "cell_type": "code",
      "source": [
        "def extractMaximum(ss):\n",
        "    num, res = 0, 0\n",
        "\n",
        "    # Start traversing the given string\n",
        "    for i in range(len(ss)):\n",
        "\n",
        "        if '0' <= ss[i] <= '9':\n",
        "            num = num * 10 + int(ss[i])\n",
        "        else:\n",
        "            res = max(res, num)\n",
        "            num = 0\n",
        "\n",
        "    return max(res, num)\n",
        "\n",
        "ss = input()\n",
        "print(extractMaximum(ss))\n"
      ],
      "metadata": {
        "colab": {
          "base_uri": "https://localhost:8080/"
        },
        "id": "YZvMlCQX_3Uv",
        "outputId": "b44ebaaa-acd4-465c-e114-66a7ac7b01f8"
      },
      "execution_count": null,
      "outputs": [
        {
          "output_type": "stream",
          "name": "stdout",
          "text": [
            "India got independence on 15 august 1947. But they were fighting for it for last 90 years.\n",
            "1947\n"
          ]
        }
      ]
    },
    {
      "cell_type": "code",
      "source": [],
      "metadata": {
        "id": "aatDg35OBv7h"
      },
      "execution_count": null,
      "outputs": []
    },
    {
      "cell_type": "markdown",
      "source": [
        "#**Loop**"
      ],
      "metadata": {
        "id": "q6smhhT-oO3U"
      }
    },
    {
      "cell_type": "markdown",
      "source": [
        "**QUESTION 1**\n",
        "\n",
        "Write a code get an integer number as input and print the sum of the digits."
      ],
      "metadata": {
        "id": "XZEdKID4oSIW"
      }
    },
    {
      "cell_type": "code",
      "source": [
        "S = input()\n",
        "\n",
        "sum = 0\n",
        "\n",
        "for i in S:\n",
        "  sum += int(i)\n",
        "\n",
        "print(sum)"
      ],
      "metadata": {
        "id": "3OdAmUN9vVzI",
        "colab": {
          "base_uri": "https://localhost:8080/"
        },
        "outputId": "b8e362af-a9b4-4f42-bc62-7171f5088df6"
      },
      "execution_count": null,
      "outputs": [
        {
          "output_type": "stream",
          "name": "stdout",
          "text": [
            "124\n",
            "7\n"
          ]
        }
      ]
    },
    {
      "cell_type": "markdown",
      "source": [
        "**QUESTION 2**\n",
        "\n",
        "Write a code to get the input and print it 5 times.\n",
        "\n",
        "\n",
        "Input Description:\n",
        "A single line contains an integer N.\n",
        "\n",
        "Output Description:\n",
        "Output contains 5 lines with each line having the value N."
      ],
      "metadata": {
        "id": "ofHairaQtGSM"
      }
    },
    {
      "cell_type": "code",
      "source": [
        "s = int(input())\n",
        "\n",
        "for i in range(5):\n",
        "  print(s)"
      ],
      "metadata": {
        "colab": {
          "base_uri": "https://localhost:8080/"
        },
        "id": "NpFveEHUs1Gr",
        "outputId": "f07d6960-fc93-4eb8-d452-7e3e024454c8"
      },
      "execution_count": null,
      "outputs": [
        {
          "output_type": "stream",
          "name": "stdout",
          "text": [
            "4\n",
            "4\n",
            "4\n",
            "4\n",
            "4\n",
            "4\n"
          ]
        }
      ]
    },
    {
      "cell_type": "markdown",
      "source": [
        "**QUESTION 3**\n",
        "\n",
        "Write a code to get 2 integers as input and add the integers without any carry.\n",
        "\n",
        "\n",
        "Input Description:\n",
        "A single line containing 2 integers.\n",
        "\n",
        "Output Description:\n",
        "Print sum of the 2 integers without carry"
      ],
      "metadata": {
        "id": "1oULsUHAtrpz"
      }
    },
    {
      "cell_type": "code",
      "source": [
        "\n",
        "def add_without_carry(num1, num2):\n",
        "\n",
        "    str1 = str(num1)\n",
        "    str2 = str(num2)\n",
        "    max_len = max(len(str1), len(str2))\n",
        "    str1 = str1.zfill(max_len)\n",
        "    str2 = str2.zfill(max_len)\n",
        "    result = \"\"\n",
        "    for digit1, digit2 in zip(str1, str2):\n",
        "        result += str((int(digit1) + int(digit2)) % 10)\n",
        "\n",
        "    return int(result)\n",
        "num1, num2 = map(int, input(\"Enter two integers separated by space: \").split())\n",
        "result = add_without_carry(num1, num2)\n",
        "print(\"Result:\", result)\n"
      ],
      "metadata": {
        "colab": {
          "base_uri": "https://localhost:8080/"
        },
        "id": "5pe4vETatdkP",
        "outputId": "da217b3c-da52-4ba1-e993-8c87c5e51a08"
      },
      "execution_count": null,
      "outputs": [
        {
          "output_type": "stream",
          "name": "stdout",
          "text": [
            "Enter two integers separated by space: 44 66\n",
            "Result: 0\n"
          ]
        }
      ]
    },
    {
      "cell_type": "markdown",
      "source": [
        "**QUESTION 4**\n",
        "\n",
        "Write a code to get an integer N and print the values from N to 1.\n",
        "\n",
        "\n",
        "Input Description:\n",
        "A single line contains an integer N.\n",
        "\n",
        "Output Description:\n",
        "Print the values from N to 1 in a separate line."
      ],
      "metadata": {
        "id": "3HTsS1_YvWWK"
      }
    },
    {
      "cell_type": "code",
      "source": [
        "def PrintReverseOrder(N):\n",
        "  for i in range(N, 0, -1):\n",
        "    print(i)\n",
        "N = int(input())\n",
        "PrintReverseOrder(N)"
      ],
      "metadata": {
        "colab": {
          "base_uri": "https://localhost:8080/"
        },
        "id": "rWGh0IPDuIBU",
        "outputId": "193e9751-334a-454e-9d2b-3c3594d3cc93"
      },
      "execution_count": null,
      "outputs": [
        {
          "output_type": "stream",
          "name": "stdout",
          "text": [
            "10\n",
            "10\n",
            "9\n",
            "8\n",
            "7\n",
            "6\n",
            "5\n",
            "4\n",
            "3\n",
            "2\n",
            "1\n"
          ]
        }
      ]
    },
    {
      "cell_type": "markdown",
      "source": [
        "**QUESTION 5**\n",
        "\n",
        "Write a code to get an integer N and print the digits of the integer.\n",
        "\n",
        "\n",
        "Input Description:\n",
        "A single line contains an integer N.\n",
        "\n",
        "Output Description:\n",
        "Print the digits of the integer in a single line separated by space,"
      ],
      "metadata": {
        "id": "pPX99saMxjYg"
      }
    },
    {
      "cell_type": "code",
      "source": [
        "def n(s):\n",
        "  str1 = str(s)\n",
        "  for i in str1:\n",
        "    print(int(i), end=\" \")\n",
        "\n",
        "s = int(input())\n",
        "print(n(s))"
      ],
      "metadata": {
        "colab": {
          "base_uri": "https://localhost:8080/"
        },
        "id": "cCTVmDvvwWYO",
        "outputId": "73d99c05-e371-4e8d-fa7c-44d065a2d075"
      },
      "execution_count": null,
      "outputs": [
        {
          "output_type": "stream",
          "name": "stdout",
          "text": [
            "348\n",
            "3 4 8 None\n"
          ]
        }
      ]
    },
    {
      "cell_type": "code",
      "source": [
        "n=int(input())\n",
        "s=str(n)\n",
        "for i in s:\n",
        "    print(i,end=\" \")"
      ],
      "metadata": {
        "colab": {
          "base_uri": "https://localhost:8080/"
        },
        "id": "xqG2XQg1x5lc",
        "outputId": "bb293364-92c2-4aa6-a4e0-200d9197fa4d"
      },
      "execution_count": null,
      "outputs": [
        {
          "output_type": "stream",
          "name": "stdout",
          "text": [
            "348\n",
            "3 4 8 "
          ]
        }
      ]
    },
    {
      "cell_type": "code",
      "source": [
        "N = int(input())\n",
        "digits = \" \".join(str(abs(N)))\n",
        "print(digits)"
      ],
      "metadata": {
        "colab": {
          "base_uri": "https://localhost:8080/"
        },
        "id": "DvnZTWWUzrw6",
        "outputId": "9511f2cf-9e32-4ef7-a30a-f381df557051"
      },
      "execution_count": null,
      "outputs": [
        {
          "output_type": "stream",
          "name": "stdout",
          "text": [
            "348\n",
            "3 4 8\n"
          ]
        }
      ]
    },
    {
      "cell_type": "markdown",
      "source": [
        "**QUESTION 6**\n",
        "\n",
        "Write a code to get 2 integers A and N. Print the integer A, N times in separate line.\n",
        "\n",
        "\n",
        "Input Description:\n",
        "First line contains an integer A. Second line contains an Integer N.\n",
        "\n",
        "Output Description:\n",
        "Print the integer A, N times in a separate line."
      ],
      "metadata": {
        "id": "sHNJrXzw0VT0"
      }
    },
    {
      "cell_type": "code",
      "source": [
        "A,N = map(int,input().split())\n",
        "\n",
        "for i in range(N):\n",
        "  print(A)"
      ],
      "metadata": {
        "colab": {
          "base_uri": "https://localhost:8080/"
        },
        "id": "ZGlSW_kr0CGG",
        "outputId": "9bc62a8a-95fe-4fba-b7d3-42d9abae62d0"
      },
      "execution_count": null,
      "outputs": [
        {
          "output_type": "stream",
          "name": "stdout",
          "text": [
            "2 3\n",
            "2\n",
            "2\n",
            "2\n"
          ]
        }
      ]
    },
    {
      "cell_type": "markdown",
      "source": [
        "**QUESTION 7**\n",
        "\n",
        "Write a code to get 2 integers as input and find the HCF of the 2 integer without using recursion or Euclidean algorithm.\n",
        "\n",
        "\n",
        "Input Description:\n",
        "A single line containing 2 integers separated by space.\n",
        "\n",
        "Output Description:\n",
        "Print the HCF of the integers."
      ],
      "metadata": {
        "id": "6NAjE7He1kwe"
      }
    },
    {
      "cell_type": "code",
      "source": [
        "def getHCF(x,y):\n",
        "  minimum = min(x,y)\n",
        "  if (x % minimum == 0 and y % minimum == 0):\n",
        "    return minimum\n",
        "  for i in range(minimum // 2, 1, -1):\n",
        "    if (x % i == 0 and y % i == 0):\n",
        "      return i\n",
        "  return 1\n",
        "x, y = map(int,input().split())\n",
        "print(getHCF(x, y))"
      ],
      "metadata": {
        "colab": {
          "base_uri": "https://localhost:8080/"
        },
        "id": "RmTYSEQz0vFm",
        "outputId": "49abe112-dc1b-416c-c364-78da9d685b84"
      },
      "execution_count": null,
      "outputs": [
        {
          "output_type": "stream",
          "name": "stdout",
          "text": [
            "2 3\n",
            "1\n"
          ]
        }
      ]
    },
    {
      "cell_type": "markdown",
      "source": [
        "**QUESTION 8**\n",
        "\n",
        "Write a code to get an integer N and print the even values from 1 till N in a separate line.\n",
        "\n",
        "\n",
        "Input Description:\n",
        "A single line contains an integer N.\n",
        "\n",
        "Output Description:\n",
        "Print the even values from 1 to N in a separate line"
      ],
      "metadata": {
        "id": "O8AbdC303WYD"
      }
    },
    {
      "cell_type": "code",
      "source": [
        "def even(N):\n",
        "  for i in range(1, N+1):\n",
        "    if i % 2 == 0:\n",
        "      print(i)\n",
        "\n",
        "N = int(input())\n",
        "even(N)\n",
        "\n",
        "\n"
      ],
      "metadata": {
        "colab": {
          "base_uri": "https://localhost:8080/"
        },
        "id": "_nGaEtB_23Bg",
        "outputId": "050a4903-eb48-47ba-fce1-812e5c5f6dfc"
      },
      "execution_count": null,
      "outputs": [
        {
          "output_type": "stream",
          "name": "stdout",
          "text": [
            "6\n",
            "2\n",
            "4\n",
            "6\n"
          ]
        }
      ]
    },
    {
      "cell_type": "markdown",
      "source": [
        "**QUESTION 9**\n",
        "\n",
        "Write a code to get an integer N and print the sum of  values from 1 to N.\n",
        "\n",
        "\n",
        "Input Description:\n",
        "A single line contains an integer N.\n",
        "\n",
        "Output Description:\n",
        "Print the sum of values from 1 to N."
      ],
      "metadata": {
        "id": "1u5e1TYLwnrS"
      }
    },
    {
      "cell_type": "code",
      "source": [
        "N = int(input())\n",
        "total = 0\n",
        "\n",
        "for i in range(1, N+1):\n",
        "  total += i\n",
        "\n",
        "print(total)"
      ],
      "metadata": {
        "id": "_fEmyOen30Df",
        "colab": {
          "base_uri": "https://localhost:8080/"
        },
        "outputId": "e690d965-e876-4d8f-b568-53d61daa3012"
      },
      "execution_count": null,
      "outputs": [
        {
          "output_type": "stream",
          "name": "stdout",
          "text": [
            "100\n",
            "5050\n"
          ]
        }
      ]
    },
    {
      "cell_type": "markdown",
      "source": [
        "**QUESTION 10**\n",
        "\n",
        "Write a code get an integer number as input and print the odd and even digits of the number separately.\n",
        "\n",
        "\n",
        "Input Description:\n",
        "A single line containing an integer.\n",
        "\n",
        "Output Description:\n",
        "Print the even and odd integers of the integer in a separate line.\n",
        "\n"
      ],
      "metadata": {
        "id": "ctbP7ElgzByS"
      }
    },
    {
      "cell_type": "code",
      "source": [
        "N = int(input())\n",
        "odd =[]\n",
        "even = []\n",
        "\n",
        "for i in str(N):\n",
        "  if int(i) % 2 == 0:\n",
        "    even.append(i)\n",
        "  else:\n",
        "    odd.append(i)\n",
        "\n",
        "even.sort()\n",
        "odd.sort()\n",
        "\n",
        "print(\" \".join(even))\n",
        "print(\" \".join(odd))"
      ],
      "metadata": {
        "colab": {
          "base_uri": "https://localhost:8080/"
        },
        "id": "VON8uNg7xK2r",
        "outputId": "42e0b676-6934-4891-c36f-a2185a494943"
      },
      "execution_count": null,
      "outputs": [
        {
          "output_type": "stream",
          "name": "stdout",
          "text": [
            "233342\n",
            "2 2 4\n",
            "3 3 3\n"
          ]
        }
      ]
    },
    {
      "cell_type": "markdown",
      "source": [
        "**QUESTION 11**\n",
        "\n",
        "Write a code to get a integer n as input and calculate the smallest perfect power of 2 greater than n.\n",
        "\n",
        "\n",
        "Input Description:\n",
        "A single line containing an integer,n.\n",
        "\n",
        "Output Description:\n",
        "Print the smallest perfect power of 2 greater than n."
      ],
      "metadata": {
        "id": "kXr4LgHL37UU"
      }
    },
    {
      "cell_type": "code",
      "source": [
        "def smallest_power_of_2_greater_than_n(n):\n",
        "    power = 1\n",
        "    while power <= n:\n",
        "        power *= 2\n",
        "    return power\n",
        "n = int(input())\n",
        "result = smallest_power_of_2_greater_than_n(n)\n",
        "print(result)"
      ],
      "metadata": {
        "colab": {
          "base_uri": "https://localhost:8080/"
        },
        "id": "bit0KHBv0Vhb",
        "outputId": "e5a048c5-119e-4ad5-f228-5871070d560d"
      },
      "execution_count": null,
      "outputs": [
        {
          "output_type": "stream",
          "name": "stdout",
          "text": [
            "48\n",
            "64\n"
          ]
        }
      ]
    },
    {
      "cell_type": "markdown",
      "source": [
        "**QUESTION 12**\n",
        "\n",
        "Write a program to get a string as input and reverse the string without using temporary variable.\n",
        "\n",
        "\n",
        "Input Description:\n",
        "A single line containing a string.\n",
        "\n",
        "Output Description:\n",
        "Print the reversed string.\n"
      ],
      "metadata": {
        "id": "37sttQ1X5C4h"
      }
    },
    {
      "cell_type": "code",
      "source": [
        "s = input()[::-1]\n",
        "print(s)\n"
      ],
      "metadata": {
        "colab": {
          "base_uri": "https://localhost:8080/"
        },
        "id": "U4mkdtOK4h0x",
        "outputId": "56337456-3eda-405f-a1df-5bf2910181fb"
      },
      "execution_count": null,
      "outputs": [
        {
          "output_type": "stream",
          "name": "stdout",
          "text": [
            "google\n",
            "elgoog\n"
          ]
        }
      ]
    },
    {
      "cell_type": "markdown",
      "source": [
        "**QUESTION 13**\n",
        "\n",
        "Write a program to get a list of integers as input and find the LCM of the values without using GCD\n",
        "\n",
        "\n",
        "Input Description:\n",
        "First line contains an integer N, number of values. Second line contains N space separated values.\n",
        "\n",
        "Output Description:\n",
        "Print the LCM of the values."
      ],
      "metadata": {
        "id": "UeRXUWg06kXd"
      }
    },
    {
      "cell_type": "code",
      "source": [
        "# Input from the user\n",
        "N = int(input())\n",
        "numbers = list(map(int, input().split()))\n",
        "\n",
        "# Initialize LCM calculation\n",
        "lcm = numbers[0]\n",
        "\n",
        "for i in range(1, N):\n",
        "    a = lcm\n",
        "    b = numbers[i]\n",
        "    max_value = max(a, b)\n",
        "\n",
        "    while True:\n",
        "        if max_value % a == 0 and max_value % b == 0:\n",
        "            lcm = max_value\n",
        "            break\n",
        "        max_value += 1\n",
        "\n",
        "print(lcm)\n"
      ],
      "metadata": {
        "colab": {
          "base_uri": "https://localhost:8080/"
        },
        "id": "7Os_8P-D6KNk",
        "outputId": "c9b0f238-39a2-4c0e-9150-ee11684fb108"
      },
      "execution_count": null,
      "outputs": [
        {
          "output_type": "stream",
          "name": "stdout",
          "text": [
            "5\n",
            "1 2 3 4 5\n",
            "60\n"
          ]
        }
      ]
    },
    {
      "cell_type": "markdown",
      "source": [
        "**QUESTION 14**\n",
        "\n",
        "Write a code to get an integer N and print values from 1 till N in a separate line.\n",
        "\n",
        "\n",
        "Input Description:\n",
        "A single line contains an integer N.\n",
        "\n",
        "Output Description:\n",
        "Print the values from 1 to N in a separate line."
      ],
      "metadata": {
        "id": "Lx7B_ADw-AkP"
      }
    },
    {
      "cell_type": "code",
      "source": [
        "N = int(input())\n",
        "for i in range(1, N+1):\n",
        "  print(i)"
      ],
      "metadata": {
        "colab": {
          "base_uri": "https://localhost:8080/"
        },
        "id": "9cAxR06W7sUc",
        "outputId": "ad19f21e-9c2d-415d-dbdb-9b24d31f2a01"
      },
      "execution_count": null,
      "outputs": [
        {
          "output_type": "stream",
          "name": "stdout",
          "text": [
            "10\n",
            "1\n",
            "2\n",
            "3\n",
            "4\n",
            "5\n",
            "6\n",
            "7\n",
            "8\n",
            "9\n",
            "10\n"
          ]
        }
      ]
    },
    {
      "cell_type": "markdown",
      "source": [
        "#**MATHEMATICS**"
      ],
      "metadata": {
        "id": "IKRCjYCLDy9-"
      }
    },
    {
      "cell_type": "markdown",
      "source": [
        "**QUESTION 1**\n",
        "\n",
        "You are given a task to tell whether the number is pure or not. A pure number is a number whose sum of digits is multiple of 3.\n",
        "\n",
        "O(1) time and O(1) space\n",
        "\n",
        "\n",
        "Input Description:\n",
        "You are given a number n.\n",
        "\n",
        "Output Description:\n",
        "Print yes if it is pure else not"
      ],
      "metadata": {
        "id": "3l2Rg9nRD5bZ"
      }
    },
    {
      "cell_type": "code",
      "source": [
        "n=int(input())\n",
        "if(n%3==0):\n",
        "  print('yes')\n",
        "else:\n",
        "  print('not')"
      ],
      "metadata": {
        "colab": {
          "base_uri": "https://localhost:8080/"
        },
        "id": "E9I_NSuG-RdG",
        "outputId": "ff1ec383-b15e-43ae-e506-edf8bcdc39de"
      },
      "execution_count": null,
      "outputs": [
        {
          "output_type": "stream",
          "name": "stdout",
          "text": [
            "13\n",
            "not\n"
          ]
        }
      ]
    },
    {
      "cell_type": "markdown",
      "source": [
        "**QUESTION 4**\n",
        "\n",
        "Given 3 numbers a,b,c print a*b mod c."
      ],
      "metadata": {
        "id": "BNJm4TrHFsoN"
      }
    },
    {
      "cell_type": "code",
      "source": [
        "a,b,c = map(int,input().split())\n",
        "print(a*b%c)"
      ],
      "metadata": {
        "colab": {
          "base_uri": "https://localhost:8080/"
        },
        "id": "fRvPF6FTD_37",
        "outputId": "8a544a24-484c-4ade-f5ce-e4e656ed730a"
      },
      "execution_count": null,
      "outputs": [
        {
          "output_type": "stream",
          "name": "stdout",
          "text": [
            "5 3 2\n",
            "1\n"
          ]
        }
      ]
    },
    {
      "cell_type": "markdown",
      "source": [
        "**QUESTION 5**\n",
        "\n",
        "You are given a large number made of only 0’s and 1’s.Your task is to find the max no of consecutive 1’s. If there are no 1’s print -1"
      ],
      "metadata": {
        "id": "9e6gsI3VHbWY"
      }
    },
    {
      "cell_type": "code",
      "source": [
        "n=input()\n",
        "res=(max(map(len,n.split('0'))))\n",
        "if res>=1:\n",
        "  print(res)\n",
        "else:\n",
        "  print(\"-1\")"
      ],
      "metadata": {
        "colab": {
          "base_uri": "https://localhost:8080/"
        },
        "id": "qPZuE4fdGAU1",
        "outputId": "da4b3d64-2f42-4c26-bdee-be58840b940a"
      },
      "execution_count": null,
      "outputs": [
        {
          "output_type": "stream",
          "name": "stdout",
          "text": [
            "101011111\n",
            "5\n"
          ]
        }
      ]
    },
    {
      "cell_type": "markdown",
      "source": [
        "**Question 6**\n",
        "\n",
        "Simi is learning about palindromic numbers. Her teacher gave him the task to count all palindromic numbers present in that range.Simi has told you about this and want your help. You design an algorithm in order to help simi."
      ],
      "metadata": {
        "id": "sBrU2lYZOirt"
      }
    },
    {
      "cell_type": "code",
      "source": [
        "n = int(input())\n",
        "count = 0\n",
        "for i in range(1, n+1):\n",
        "    i = str(i)\n",
        "    if i == i[::-1]:\n",
        "        count += 1\n",
        "print(count)"
      ],
      "metadata": {
        "colab": {
          "base_uri": "https://localhost:8080/"
        },
        "id": "ezUJXwp9HHi5",
        "outputId": "4ae48e8a-626a-4396-ec19-2e512af38409"
      },
      "execution_count": null,
      "outputs": [
        {
          "output_type": "stream",
          "name": "stdout",
          "text": [
            "5\n",
            "5\n"
          ]
        }
      ]
    },
    {
      "cell_type": "markdown",
      "source": [
        "**Question 7**\n",
        "\n",
        "You are provided with a number ’n’. Your task is to tell whether that number is saturated. A saturated number is a number which is made by exactly two digits."
      ],
      "metadata": {
        "id": "Pzu8fBu7Ob7S"
      }
    },
    {
      "cell_type": "code",
      "source": [
        "n = input()\n",
        "res = list(set(n))\n",
        "if(len(res) == 2):\n",
        "    print(\"Saturated\")\n",
        "else:\n",
        "  print(\"Unsaturated\")"
      ],
      "metadata": {
        "colab": {
          "base_uri": "https://localhost:8080/"
        },
        "id": "ERnm9XPLIok0",
        "outputId": "b6fa41d2-2bca-4104-ec03-7fa8e8a95a3c"
      },
      "execution_count": null,
      "outputs": [
        {
          "output_type": "stream",
          "name": "stdout",
          "text": [
            "121\n",
            "Saturated\n"
          ]
        }
      ]
    },
    {
      "cell_type": "markdown",
      "source": [
        "**Question 8**\n",
        "\n",
        "Assume your brother studies in class 2. He has to  complete his homework on co-primes. As an elder sibling help him in finding whether the given two numbers is co-prime or not."
      ],
      "metadata": {
        "id": "1nVWaMFmOxYM"
      }
    },
    {
      "cell_type": "code",
      "source": [
        "from math import gcd\n",
        "n,m=map(int,input().split())\n",
        "if gcd(n,m)==1:\n",
        "  print(\"1\")\n",
        "else:\n",
        "  print(\"0\")"
      ],
      "metadata": {
        "colab": {
          "base_uri": "https://localhost:8080/"
        },
        "id": "QIcgUjZtO1z8",
        "outputId": "cff8a285-6431-4cd4-d0a5-7f917462c960"
      },
      "execution_count": null,
      "outputs": [
        {
          "output_type": "stream",
          "name": "stdout",
          "text": [
            "3 5\n",
            "1\n"
          ]
        }
      ]
    },
    {
      "cell_type": "markdown",
      "source": [
        "**Question 9**\n",
        "\n",
        "Find the minimum among 10 numbers."
      ],
      "metadata": {
        "id": "1GU7otcrQgb_"
      }
    },
    {
      "cell_type": "code",
      "source": [
        "N = map(int,input().split())\n",
        "print(min(N))"
      ],
      "metadata": {
        "colab": {
          "base_uri": "https://localhost:8080/"
        },
        "id": "Vyio181COJNl",
        "outputId": "30e8b5b0-196e-4ba5-a109-82eece8f6dcb"
      },
      "execution_count": null,
      "outputs": [
        {
          "output_type": "stream",
          "name": "stdout",
          "text": [
            "5 4 3 2 1 7 6 10 8 9\n",
            "1\n"
          ]
        }
      ]
    },
    {
      "cell_type": "markdown",
      "source": [
        "**Question 10**\n",
        "\n",
        "You are given an array of numbers. Print the least occurring element. If there is more than 1 element print all of them in decreasing order of their value."
      ],
      "metadata": {
        "id": "e6WNCjj4Qtxx"
      }
    },
    {
      "cell_type": "code",
      "source": [
        "n = int(input())\n",
        "arr = list(map(int, input().split()))\n",
        "\n",
        "\n",
        "freq = {}\n",
        "for num in arr:\n",
        "    freq[num] = freq.get(num, 0) + 1\n",
        "\n",
        "\n",
        "least_freq = min(freq.values())\n",
        "\n",
        "\n",
        "result = []\n",
        "for num, count in freq.items():\n",
        "    if count == least_freq:\n",
        "        result.append(num)\n",
        "\n",
        "\n",
        "result.sort(reverse=True)\n",
        "\n",
        "\n",
        "print(*result)"
      ],
      "metadata": {
        "colab": {
          "base_uri": "https://localhost:8080/"
        },
        "id": "mixfwC9cQIFL",
        "outputId": "25f4c8ea-b4ff-4bc8-ea8c-923ac2ca7cc4"
      },
      "execution_count": null,
      "outputs": [
        {
          "output_type": "stream",
          "name": "stdout",
          "text": [
            "9\n",
            "1 6 4 56 56 56 6 4 2\n",
            "2 1\n"
          ]
        }
      ]
    },
    {
      "cell_type": "markdown",
      "source": [
        "**Question 11**\n",
        "\n",
        "You are given a set of numbers, out of which you have to tell which of them are finest. A finest number ‘n’ is a number which is formed by a number ‘t’ such that\n",
        "\n",
        "n=t^3+(t+1)^3\n",
        "\n",
        "\n",
        "\n",
        "t is a natural number"
      ],
      "metadata": {
        "id": "40miscItR6Rh"
      }
    },
    {
      "cell_type": "code",
      "source": [
        "z=int(input())\n",
        "no=list(map(int,input().split()))\n",
        "ls=[]\n",
        "number=1\n",
        "for i in no:\n",
        "  for t in range(1,100+1):\n",
        "    number= t**3+(t+1)**3\n",
        "    if i==number:\n",
        "      ls.append(i)\n",
        "ls.sort()\n",
        "print(*ls)"
      ],
      "metadata": {
        "colab": {
          "base_uri": "https://localhost:8080/"
        },
        "id": "WVF1pDL-RVyG",
        "outputId": "b3e38c3e-da02-4af9-fc94-91861a41f613"
      },
      "execution_count": null,
      "outputs": [
        {
          "output_type": "stream",
          "name": "stdout",
          "text": [
            "2\n",
            "1729 189\n",
            "189 1729\n"
          ]
        }
      ]
    },
    {
      "cell_type": "markdown",
      "source": [
        "**Question 12**\n",
        "Given a number N, print yes if the number is a multiple of 7 else print no."
      ],
      "metadata": {
        "id": "8FUgGQsiSyQK"
      }
    },
    {
      "cell_type": "code",
      "source": [
        "N = int(input())\n",
        "if N % 7 == 0:\n",
        "  print('yes')\n",
        "else:\n",
        "  print('no')"
      ],
      "metadata": {
        "colab": {
          "base_uri": "https://localhost:8080/"
        },
        "id": "D7ftfy30SOdp",
        "outputId": "d7e94d86-fef3-4429-d812-93948fdff622"
      },
      "execution_count": null,
      "outputs": [
        {
          "output_type": "stream",
          "name": "stdout",
          "text": [
            "49\n",
            "yes\n"
          ]
        }
      ]
    },
    {
      "cell_type": "markdown",
      "source": [
        "**Question 13**\n",
        "\n",
        "Given a number N, print 'yes' if it is a multiple of 13 else print 'no'."
      ],
      "metadata": {
        "id": "xc_oX6NTTUoQ"
      }
    },
    {
      "cell_type": "code",
      "source": [
        "N = int(input())\n",
        "if N % 13 == 0:\n",
        "  print('yes')\n",
        "else:\n",
        "  print('no')"
      ],
      "metadata": {
        "colab": {
          "base_uri": "https://localhost:8080/"
        },
        "id": "aK0_DZQeTBU0",
        "outputId": "a0f36dc6-0b9d-4cb1-8eca-e3ee7c50e81d"
      },
      "execution_count": null,
      "outputs": [
        {
          "output_type": "stream",
          "name": "stdout",
          "text": [
            "26\n",
            "yes\n"
          ]
        }
      ]
    },
    {
      "cell_type": "markdown",
      "source": [
        "**Question 14**\n",
        "\n",
        "Pk finds it difficult to judge the minimum element in the list of elements given to him. Your task is to develop the algorithm in order to find the minimum element."
      ],
      "metadata": {
        "id": "7UqNkxugUA36"
      }
    },
    {
      "cell_type": "code",
      "source": [
        "N = int(input())\n",
        "no = map(int,input().split())\n",
        "minimum = min(no)\n",
        "print(minimum)"
      ],
      "metadata": {
        "colab": {
          "base_uri": "https://localhost:8080/"
        },
        "id": "4-XFqsv7Trcy",
        "outputId": "cde78fdd-ff37-4f8a-ceed-7e17fff3124d"
      },
      "execution_count": null,
      "outputs": [
        {
          "output_type": "stream",
          "name": "stdout",
          "text": [
            "5\n",
            "3 4 9 1 6 7\n",
            "1\n"
          ]
        }
      ]
    },
    {
      "cell_type": "markdown",
      "source": [
        "**Question 15**\n",
        "\n",
        "Assume that you are ticket verifier at a club. Your club has decided to give a special discount to the person(s) who are satisfying the following condition\n",
        "\n",
        "\n",
        "\n",
        "Condition:-\n",
        "\n",
        "If ticket number is divisible by date of month. You are eligible for a discount."
      ],
      "metadata": {
        "id": "UlO0muk8Vl5H"
      }
    },
    {
      "cell_type": "code",
      "source": [
        "n=int(input())\n",
        "ele=(list(map(int,input().split())))\n",
        "k=int(input())\n",
        "for i in range(0,n):\n",
        "  if ele[i]%k==0:\n",
        "    ele[i]=1\n",
        "  else:\n",
        "    ele[i]=0\n",
        "print(*ele)"
      ],
      "metadata": {
        "colab": {
          "base_uri": "https://localhost:8080/"
        },
        "id": "b4AXgoFxVMtv",
        "outputId": "8e7c6713-3da1-486a-fb05-8eb7e3e30fbc"
      },
      "execution_count": null,
      "outputs": [
        {
          "output_type": "stream",
          "name": "stdout",
          "text": [
            "6\n",
            "112 139 165 175 262 130\n",
            "22\n",
            "0 0 0 0 0 0\n"
          ]
        }
      ]
    },
    {
      "cell_type": "markdown",
      "source": [
        "**Question 16**\n",
        "\n",
        "Given 2 numbers N,M. Print 'yes' if their product is a perfect square else print 'no'."
      ],
      "metadata": {
        "id": "hVFcQl-lWrbz"
      }
    },
    {
      "cell_type": "code",
      "source": [
        "N,M=input().split()\n",
        "if N==M:\n",
        "  print('yes')\n",
        "else:\n",
        "  print('no')"
      ],
      "metadata": {
        "colab": {
          "base_uri": "https://localhost:8080/"
        },
        "id": "FSRlPlkPWEs8",
        "outputId": "dc215ca7-6e75-4e04-d1b0-a2b763bb56a4"
      },
      "execution_count": null,
      "outputs": [
        {
          "output_type": "stream",
          "name": "stdout",
          "text": [
            "5 5\n",
            "yes\n"
          ]
        }
      ]
    },
    {
      "cell_type": "markdown",
      "source": [
        "**Question 17**\n",
        "\n",
        "A person saves his monthly saving according to given schema. He saves same amount of money which is equal to the money saved in immediate previous two months. Assume, initially he saved 1000 rupees and in first month he saved another 1000. Your task is to tell how much he had totally saved at the end of ‘n’ months"
      ],
      "metadata": {
        "id": "VYa0W_s2XPeg"
      }
    },
    {
      "cell_type": "code",
      "source": [
        "a=int(input())\n",
        "if a<=2:\n",
        "    print(2000*a)\n",
        "else:\n",
        "    print((2000*a)+1000)"
      ],
      "metadata": {
        "colab": {
          "base_uri": "https://localhost:8080/"
        },
        "id": "j5AC4_-mW3mV",
        "outputId": "b3a6f004-1dd3-4e96-e9d6-7616d59bba2d"
      },
      "execution_count": null,
      "outputs": [
        {
          "output_type": "stream",
          "name": "stdout",
          "text": [
            "1\n",
            "2000\n"
          ]
        }
      ]
    },
    {
      "cell_type": "markdown",
      "source": [
        "**Question 18**\n",
        "\n",
        "You are given an array of non-negative integers representing height of walls at index i as Ai and the width of each block is 1. Compute how much air can be encapsulated between the walls of chamber."
      ],
      "metadata": {
        "id": "YoRKQvYJXzt0"
      }
    },
    {
      "cell_type": "code",
      "source": [
        "def maxAir(arr,n):\n",
        "  res=0\n",
        "  for i in range(1,n-1):\n",
        "      left=arr[i]\n",
        "      for j in range(i):\n",
        "        left=max(left,arr[j])\n",
        "\n",
        "      right=arr[i]\n",
        "      for j in range(i+1,n):\n",
        "        right=max(right,arr[j])\n",
        "\n",
        "      res=res+(min(left,right)-arr[i])\n",
        "\n",
        "  return res\n",
        "\n",
        "\n",
        "N=int(input())\n",
        "arr=list(map(int,input().split()))\n",
        "n=len(arr)\n",
        "\n",
        "print(maxAir(arr,n))"
      ],
      "metadata": {
        "colab": {
          "base_uri": "https://localhost:8080/"
        },
        "id": "trGFkINFXlU3",
        "outputId": "617c5b78-64cf-4e6f-d56d-51aaa751a4f7"
      },
      "execution_count": null,
      "outputs": [
        {
          "output_type": "stream",
          "name": "stdout",
          "text": [
            "3\n",
            "7 4 9 \n",
            "3\n"
          ]
        }
      ]
    },
    {
      "cell_type": "markdown",
      "source": [
        "**Question 19**\n",
        "\n",
        "Given a number N, print 'yes' if it is composite else print 'no'."
      ],
      "metadata": {
        "id": "LROWs8Q8Yn6v"
      }
    },
    {
      "cell_type": "code",
      "source": [
        "def is_composite(N):\n",
        "    if N < 4:\n",
        "      print(\"no\")\n",
        "      return\n",
        "    for i in range(2, int(N**0.5) + 1):\n",
        "      if N % i == 0:\n",
        "        print(\"yes\")\n",
        "        return\n",
        "    print(\"no\")\n",
        "\n",
        "N = int(input())\n",
        "is_composite(N)"
      ],
      "metadata": {
        "colab": {
          "base_uri": "https://localhost:8080/"
        },
        "id": "nyZyzAUJYIsO",
        "outputId": "fcc890fa-e944-4a6a-d917-e19f21ccdc52"
      },
      "execution_count": null,
      "outputs": [
        {
          "output_type": "stream",
          "name": "stdout",
          "text": [
            "123\n",
            "yes\n"
          ]
        }
      ]
    },
    {
      "cell_type": "markdown",
      "source": [
        "**Question 20**\n",
        "\n",
        "Given 3 numbers N , L and R. Print 'yes' if N is between L and R else print 'no'."
      ],
      "metadata": {
        "id": "i3ImI_IuZzug"
      }
    },
    {
      "cell_type": "code",
      "source": [
        "n=int(input())\n",
        "l,r=map(int,input().split())\n",
        "if n>l and n<r:\n",
        "  print('yes')\n",
        "else:\n",
        "  print('no')"
      ],
      "metadata": {
        "colab": {
          "base_uri": "https://localhost:8080/"
        },
        "id": "pgyLtN_YZY9s",
        "outputId": "2afc1e41-f5e9-460a-b6eb-2498ed430324"
      },
      "execution_count": null,
      "outputs": [
        {
          "output_type": "stream",
          "name": "stdout",
          "text": [
            "3\n",
            "2 6\n",
            "yes\n"
          ]
        }
      ]
    },
    {
      "cell_type": "markdown",
      "source": [
        "**Question 21**\n",
        "\n",
        "You are an employee of ‘Rox Travel’ channel.The channel has decided to give allowances to some customer who satisfy these conditions. The conditions are:\n",
        "\n",
        "The customer should be born on or before july 22 1987\n",
        "\n",
        "The month of D.O.B month should be of 31 days.\n",
        "\n",
        "You are given with the D.O.B of all the employees.Your task is to print the employee index who are having chance to avail special offer."
      ],
      "metadata": {
        "id": "7dM4I0iMbc3r"
      }
    },
    {
      "cell_type": "code",
      "source": [
        "n = int(input())\n",
        "l = input().split()\n",
        "a = []\n",
        "k = 0\n",
        "for i in range(n):\n",
        "    b = []\n",
        "    for j in range(3):\n",
        "        b.append(l[k])\n",
        "        k += 1\n",
        "    a.append(b)\n",
        "ans = []\n",
        "flag = False\n",
        "for i in range(len(a)):\n",
        "    if int(a[i][2]) <= 1987:\n",
        "        if int(a[i][2]) == 1987:\n",
        "            if a[i][1] in ('JANUARY', 'FEBRUARY', 'MARCH', 'APRIL', 'MAY', 'JUNE', 'JULY'):\n",
        "                if (a[i][1]) == 'JULY':\n",
        "                    if int(a[i][0]) <= 22:\n",
        "                        ans.append(i+1)\n",
        "                        flag = True\n",
        "                    else:\n",
        "                        continue\n",
        "                else:\n",
        "                    ans.append(i+1)\n",
        "                    flag = True\n",
        "            else:\n",
        "                continue\n",
        "        else:\n",
        "            ans.append(i+1)\n",
        "            flag = True\n",
        "    else:\n",
        "        continue\n",
        "if flag:print(*ans)\n",
        "else:print(-1)"
      ],
      "metadata": {
        "colab": {
          "base_uri": "https://localhost:8080/"
        },
        "id": "LshKFE7JZsDJ",
        "outputId": "cfb3f919-a52b-4960-9786-92c4cb9aae8c"
      },
      "execution_count": null,
      "outputs": [
        {
          "output_type": "stream",
          "name": "stdout",
          "text": [
            "4\n",
            "23 MARCH 1996 23 MARCH 1986 22 JULY 1987 23 APRIL 1987\n",
            "2 3 4\n"
          ]
        }
      ]
    },
    {
      "cell_type": "markdown",
      "source": [
        "**Question 22**\n",
        "\n",
        "Given a number N, find the nearest greater multiple of 10.\n",
        "Input Size : N <= 10000\n",
        "Sample Testcase :\n",
        "INPUT\n",
        "3\n",
        "OUTPUT\n",
        "10"
      ],
      "metadata": {
        "id": "Mq9DtFN5cBp3"
      }
    },
    {
      "cell_type": "code",
      "source": [
        "#ceil is used to round the float value to greatest integer, floor gives the round of lowest value\n",
        "\n",
        "import math\n",
        "number=int(input())\n",
        "number = number / 10\n",
        "number =math.ceil(number)\n",
        "number = number * 10\n",
        "print(number)"
      ],
      "metadata": {
        "id": "bRv7rqgpa7z7",
        "colab": {
          "base_uri": "https://localhost:8080/"
        },
        "outputId": "8b269e16-e5c9-4e72-f095-17021568dd75"
      },
      "execution_count": 3,
      "outputs": [
        {
          "output_type": "stream",
          "name": "stdout",
          "text": [
            "3\n",
            "10\n"
          ]
        }
      ]
    },
    {
      "cell_type": "markdown",
      "source": [
        "**Question 23**\n",
        "\n",
        "Write a program to print the sum of the first K natural numbers.\n",
        "Input Size : n <= 100000."
      ],
      "metadata": {
        "id": "8a1HYwKBth4C"
      }
    },
    {
      "cell_type": "code",
      "source": [
        "n = int(input())\n",
        "sum = 0\n",
        "for i in range(1, n+1):\n",
        "\tsum += i\n",
        "print(sum)"
      ],
      "metadata": {
        "colab": {
          "base_uri": "https://localhost:8080/"
        },
        "id": "6bb9v8rwsmRm",
        "outputId": "2ac1b4ef-0640-481c-b4da-15c9f01daf28"
      },
      "execution_count": 4,
      "outputs": [
        {
          "output_type": "stream",
          "name": "stdout",
          "text": [
            "3\n",
            "6\n"
          ]
        }
      ]
    },
    {
      "cell_type": "markdown",
      "source": [
        "**Question 24**\n",
        "\n",
        "Given 2 numbers N,M. Find their difference and check whether it is even or odd."
      ],
      "metadata": {
        "id": "0GTJklJjuBhs"
      }
    },
    {
      "cell_type": "code",
      "source": [
        "N,M = map(int,input().split())\n",
        "\n",
        "difference = N - M\n",
        "\n",
        "if difference % 2 == 0:\n",
        "  print(\"even\")\n",
        "else:\n",
        "  print(\"odd\")"
      ],
      "metadata": {
        "colab": {
          "base_uri": "https://localhost:8080/"
        },
        "id": "naLEQTOxtdpm",
        "outputId": "dd6f1882-ad65-4403-f82f-e77fe77731d3"
      },
      "execution_count": 5,
      "outputs": [
        {
          "output_type": "stream",
          "name": "stdout",
          "text": [
            "5 5\n",
            "even\n"
          ]
        }
      ]
    },
    {
      "cell_type": "markdown",
      "source": [
        "**Question 26**\n",
        "\n",
        "Given a number N, find its next immediate greater power of 2(i.e 2^1, 2^2, 2^3...).\n",
        "Input Size : N <= 1000"
      ],
      "metadata": {
        "id": "w3M4rG92vNFW"
      }
    },
    {
      "cell_type": "code",
      "source": [
        "n = int(input())\n",
        "lst =[(2**x) for x in range(10)]\n",
        "for i in lst:\n",
        "    if i > n:\n",
        "        print(i)\n",
        "        break"
      ],
      "metadata": {
        "colab": {
          "base_uri": "https://localhost:8080/"
        },
        "id": "kup5uFX4u7jV",
        "outputId": "abeea3ef-63f2-49be-e653-fce7a7c7ede2"
      },
      "execution_count": 7,
      "outputs": [
        {
          "output_type": "stream",
          "name": "stdout",
          "text": [
            "4\n",
            "8\n"
          ]
        }
      ]
    },
    {
      "cell_type": "markdown",
      "source": [
        "**Question 27**\n",
        "\n",
        "You are given with a number ‘n’. You have to count the pair of two numbers a and b such that sum of two numbers are equal to n.\n",
        "\n",
        "Note:Both numbers lie in range 1<=a,b<n"
      ],
      "metadata": {
        "id": "2jiE7KFnyPJ7"
      }
    },
    {
      "cell_type": "code",
      "source": [
        "n=int(input())\n",
        "count=0\n",
        "for a in range(1,n):\n",
        "  for b in range(1,n):\n",
        "    if a+b==n:\n",
        "      count=count+1\n",
        "print(count)"
      ],
      "metadata": {
        "colab": {
          "base_uri": "https://localhost:8080/"
        },
        "id": "czYiDK4dx2z0",
        "outputId": "c1267e2f-26d5-4984-cd16-5446c67a2a61"
      },
      "execution_count": 8,
      "outputs": [
        {
          "output_type": "stream",
          "name": "stdout",
          "text": [
            "5\n",
            "4\n"
          ]
        }
      ]
    },
    {
      "cell_type": "markdown",
      "source": [
        "**Question 28**\n",
        "\n",
        "Count the number of digits of a given number N.Size of the integer ranges from 1"
      ],
      "metadata": {
        "id": "lMXfR0ggy9-B"
      }
    },
    {
      "cell_type": "code",
      "source": [
        "N=int(input())\n",
        "count=0\n",
        "while N>0:\n",
        "  digit=N%10\n",
        "  count=count+1\n",
        "  N=N//10\n",
        "\n",
        "print(count)"
      ],
      "metadata": {
        "colab": {
          "base_uri": "https://localhost:8080/"
        },
        "id": "amPsxaAuyhSK",
        "outputId": "16fd8cf2-ac71-4389-b3a5-83bbdc3a3372"
      },
      "execution_count": 9,
      "outputs": [
        {
          "output_type": "stream",
          "name": "stdout",
          "text": [
            "548\n",
            "3\n"
          ]
        }
      ]
    },
    {
      "cell_type": "markdown",
      "source": [
        "**Question 29**\n",
        "\n",
        "You are given a number ‘n’. You have to tell whether a number is great or not. A great number is a number whose sum of digits let (m) and product of digits let(j) when summed together gives the number back\n",
        "\n",
        "m+j=n"
      ],
      "metadata": {
        "id": "d3UK0uuH0BJn"
      }
    },
    {
      "cell_type": "code",
      "source": [
        "n=int(input())\n",
        "t=n\n",
        "sum=0\n",
        "product=1\n",
        "while n > 0:\n",
        "  digit=n%10\n",
        "  sum=sum+digit\n",
        "  product=digit*product\n",
        "  n=n//10\n",
        "res=sum+product\n",
        "\n",
        "if res==t:\n",
        "  print(\"Great\")\n",
        "else:\n",
        "  print(\"no\")"
      ],
      "metadata": {
        "colab": {
          "base_uri": "https://localhost:8080/"
        },
        "id": "zVnGKpYqzjyZ",
        "outputId": "70a19da4-13a9-49e6-896c-96384a439854"
      },
      "execution_count": 10,
      "outputs": [
        {
          "output_type": "stream",
          "name": "stdout",
          "text": [
            "59\n",
            "Great\n"
          ]
        }
      ]
    },
    {
      "cell_type": "markdown",
      "source": [
        "**Question 30**\n",
        "\n",
        "You are given given task is to print whether array is ‘majestic’ or not.A ‘majsetic’ array is an array whose sum of first three number is equal to last three number."
      ],
      "metadata": {
        "id": "14Hd1_Ox1GEe"
      }
    },
    {
      "cell_type": "code",
      "source": [
        "n = int(input())\n",
        "l = [int(x) for x in input().split()]\n",
        "f = l[0] + l[1] + l[2]\n",
        "la = l[-1] + l[-2] + l[-3]\n",
        "if f == la:\n",
        "  print(1)\n",
        "else:\n",
        "  print(0)"
      ],
      "metadata": {
        "colab": {
          "base_uri": "https://localhost:8080/"
        },
        "id": "ejv_IC3m0q_g",
        "outputId": "165d76f2-87c1-4a99-a83d-24fe707c1e2b"
      },
      "execution_count": 11,
      "outputs": [
        {
          "output_type": "stream",
          "name": "stdout",
          "text": [
            "7\n",
            "1 2 3 4 6 0 0\n",
            "1\n"
          ]
        }
      ]
    },
    {
      "cell_type": "markdown",
      "source": [
        "**Question 31**\n",
        "Given a number N, print the product of the digits.\n",
        "Input Size : N <= 100000000000"
      ],
      "metadata": {
        "id": "Dk5BjYuE2bFn"
      }
    },
    {
      "cell_type": "code",
      "source": [
        "n = int(input())\n",
        "pro = 1\n",
        "while n>0:\n",
        "\tpro *= (n%10)\n",
        "\tn //= 10\n",
        "print(pro)"
      ],
      "metadata": {
        "colab": {
          "base_uri": "https://localhost:8080/"
        },
        "id": "kjkibIzz1mok",
        "outputId": "226a77a5-2a1b-475a-9e7a-71073b2890f8"
      },
      "execution_count": 12,
      "outputs": [
        {
          "output_type": "stream",
          "name": "stdout",
          "text": [
            "2413\n",
            "24\n"
          ]
        }
      ]
    },
    {
      "cell_type": "markdown",
      "source": [
        "**Question 32**\n",
        "Ajay is given a series(In example).he gone through the series but unable to understand it properly,he has hired you.Your task is to understand the series and print the series 2,6,12,20,30... .You are given with a number ‘n’. Find the nth number of series."
      ],
      "metadata": {
        "id": "DETkW-pj2xMc"
      }
    },
    {
      "cell_type": "code",
      "source": [
        "n=int(input())\n",
        "n=n*(n+1)\n",
        "print(n)"
      ],
      "metadata": {
        "colab": {
          "base_uri": "https://localhost:8080/"
        },
        "id": "o7ayGL9H2nj3",
        "outputId": "46d47262-cca6-405b-8627-32b527421994"
      },
      "execution_count": 13,
      "outputs": [
        {
          "output_type": "stream",
          "name": "stdout",
          "text": [
            "5\n",
            "30\n"
          ]
        }
      ]
    },
    {
      "cell_type": "code",
      "source": [
        "'''\n",
        "n*(n+1)=result\n",
        "1*2=2\n",
        "2*3=6\n",
        "3*4=12\n",
        "4*5=20\n",
        "6*6=30'''"
      ],
      "metadata": {
        "id": "aSp8mm9j3QLt"
      },
      "execution_count": null,
      "outputs": []
    },
    {
      "cell_type": "markdown",
      "source": [
        "**Question 33**\n",
        "\n",
        "you are given with ‘arasu’ series(shown in example).You have to understand it and you will be given a number ‘n’ ,you have to print the series till n numbers."
      ],
      "metadata": {
        "id": "lfbewT7T3gm0"
      }
    },
    {
      "cell_type": "code",
      "source": [
        "n = int(input())\n",
        "def prime(n):\n",
        "    i = 2\n",
        "    l = []\n",
        "    while n>0:\n",
        "        if i == 2 or i == 3:\n",
        "            l.append(i)\n",
        "            n -= 1\n",
        "        else:\n",
        "            flag = True\n",
        "            for j in range(2, i//2+1):\n",
        "                if i%j==0:\n",
        "                    flag = False\n",
        "                    break\n",
        "            if flag:\n",
        "                l.append(i)\n",
        "                n-=1\n",
        "        i+=1\n",
        "    return l\n",
        "lst = prime(n)\n",
        "a = []\n",
        "sum = 0\n",
        "for i in lst:\n",
        "    sum += i\n",
        "    a.append(sum)\n",
        "print(*a)"
      ],
      "metadata": {
        "colab": {
          "base_uri": "https://localhost:8080/"
        },
        "id": "wNjkDWn43YgW",
        "outputId": "b59a2ff2-929a-48fa-a418-bb8ab6e1c0fd"
      },
      "execution_count": 14,
      "outputs": [
        {
          "output_type": "stream",
          "name": "stdout",
          "text": [
            "4\n",
            "2 5 10 17\n"
          ]
        }
      ]
    },
    {
      "cell_type": "markdown",
      "source": [
        "**Question 34**\n",
        "\n",
        "Given a number N, check whether it is prime or not. Print 'yes' if it is prime else print 'no'."
      ],
      "metadata": {
        "id": "aV5L55N84gJc"
      }
    },
    {
      "cell_type": "code",
      "source": [
        "N=int(input())\n",
        "if(N%2==0 or N%3==0 or N%5==0):\n",
        "  print('no')\n",
        "else:\n",
        "  print('yes')"
      ],
      "metadata": {
        "colab": {
          "base_uri": "https://localhost:8080/"
        },
        "id": "jtll4Xvx4Xmo",
        "outputId": "0a62f5a7-f3c3-4d7d-ce78-6f8b6dbc541a"
      },
      "execution_count": 15,
      "outputs": [
        {
          "output_type": "stream",
          "name": "stdout",
          "text": [
            "123\n",
            "no\n"
          ]
        }
      ]
    },
    {
      "cell_type": "markdown",
      "source": [
        "**Question 36**\n",
        "\n",
        "Shreya is a brilliant girl. She likes to memorize the numbers. These numbers will be shown to her. As an examiner develop an algorithm to test her memory."
      ],
      "metadata": {
        "id": "XH8mX6gJ6ahw"
      }
    },
    {
      "cell_type": "code",
      "source": [
        "n = int(input())\n",
        "l = [int(x) for x in input().split()]\n",
        "m = int(input())\n",
        "a = [int(x) for x in input().split()]\n",
        "\n",
        "result = []\n",
        "for i in a:\n",
        "    if i in l:\n",
        "        result.append(str(l.count(i)))\n",
        "    else:\n",
        "        result.append(\"Not Present\")\n",
        "\n",
        "\n",
        "print(\" \".join(result))"
      ],
      "metadata": {
        "colab": {
          "base_uri": "https://localhost:8080/"
        },
        "id": "AF7Z2l4u7JiK",
        "outputId": "ff09143b-67dc-4fd2-8041-7e817c940a00"
      },
      "execution_count": 21,
      "outputs": [
        {
          "output_type": "stream",
          "name": "stdout",
          "text": [
            "10\n",
            "1 1 1 2 2 2 3 8 9 7\n",
            "5\n",
            "1 2 3 0 5\n",
            "3 3 1 Not Present Not Present\n"
          ]
        }
      ]
    },
    {
      "cell_type": "markdown",
      "source": [
        "**Question 38**\n",
        "\n",
        "Given length L and breadth B of a farm, print the area of the farm upto 5 decimal decimals."
      ],
      "metadata": {
        "id": "tc40IXO_-HXh"
      }
    },
    {
      "cell_type": "code",
      "source": [
        "L, B = map(float, input().split())\n",
        "area = L * B\n",
        "area_str = f\"{area:.10f}\"\n",
        "integer_part, decimal_part = area_str.split(\".\")\n",
        "result = f\"{integer_part}.{decimal_part[:5]}\"\n",
        "print(result)"
      ],
      "metadata": {
        "colab": {
          "base_uri": "https://localhost:8080/"
        },
        "id": "8AMdmhrj-DG1",
        "outputId": "458cb799-708c-432f-8fd0-4169f0cd9d9a"
      },
      "execution_count": 24,
      "outputs": [
        {
          "output_type": "stream",
          "name": "stdout",
          "text": [
            "2.5432 6.7654\n",
            "17.20576\n"
          ]
        }
      ]
    },
    {
      "cell_type": "markdown",
      "source": [
        "**Question 40**\n",
        "Given 2 numbers N and M add both the numbers and check whether the sum is odd or even."
      ],
      "metadata": {
        "id": "XTivpEjH__ct"
      }
    },
    {
      "cell_type": "code",
      "source": [
        "n,m = map(int,input().split())\n",
        "B = n+m\n",
        "if B % 2 == 0:\n",
        "    print(\"even\")\n",
        "else:\n",
        "  print(\"odd\")\n"
      ],
      "metadata": {
        "colab": {
          "base_uri": "https://localhost:8080/"
        },
        "id": "DY7_xMFA_RNw",
        "outputId": "93fbe2e4-0568-4065-90e0-6443d16236b0"
      },
      "execution_count": 25,
      "outputs": [
        {
          "output_type": "stream",
          "name": "stdout",
          "text": [
            "9 2\n",
            "odd\n"
          ]
        }
      ]
    },
    {
      "cell_type": "markdown",
      "source": [
        "**Question 41**\n",
        "Given the values of a,b and x in the equation ax + b = y. Find the value of y.\n"
      ],
      "metadata": {
        "id": "V8Qu2uR6BDd9"
      }
    },
    {
      "cell_type": "code",
      "source": [
        "a,b,x = map(int,input().split())\n",
        "y = a*x+b\n",
        "print(y)"
      ],
      "metadata": {
        "colab": {
          "base_uri": "https://localhost:8080/"
        },
        "id": "uc-AltKyAe0L",
        "outputId": "ab3a69ef-9bbb-4ceb-b667-84c03b763978"
      },
      "execution_count": 26,
      "outputs": [
        {
          "output_type": "stream",
          "name": "stdout",
          "text": [
            "3 5 2\n",
            "11\n"
          ]
        }
      ]
    },
    {
      "cell_type": "markdown",
      "source": [
        "**Question 42**\n",
        "\n",
        "Given a number N and an array of N integers, find the sum of all the negative numbers in the array."
      ],
      "metadata": {
        "id": "cx6oavH9BvWk"
      }
    },
    {
      "cell_type": "code",
      "source": [
        "n = int(input())\n",
        "l = input().split(\" \")\n",
        "l = [int(x) for x in l]\n",
        "sum = 0\n",
        "for i in l:\n",
        "    if i < 0:\n",
        "        sum += i\n",
        "print(sum)"
      ],
      "metadata": {
        "colab": {
          "base_uri": "https://localhost:8080/"
        },
        "id": "kHbgxylyBQcz",
        "outputId": "02611907-5eb7-4ceb-a90a-b722a3076160"
      },
      "execution_count": 27,
      "outputs": [
        {
          "output_type": "stream",
          "name": "stdout",
          "text": [
            "2\n",
            "3 0\n",
            "0\n"
          ]
        }
      ]
    },
    {
      "cell_type": "markdown",
      "source": [
        "#**absolute beginner**"
      ],
      "metadata": {
        "id": "6kvq2FUuD4YF"
      }
    },
    {
      "cell_type": "markdown",
      "source": [
        "Question 11\n",
        "\n",
        "Using the method of looping, write a program to print the table of 9 till N in the format as follows:\n",
        "(N is input by the user)\n",
        "\n",
        "9 18 27...\n",
        "\n",
        "Print NULL if 0 is input"
      ],
      "metadata": {
        "id": "4n7fbvVkDwpd"
      }
    },
    {
      "cell_type": "code",
      "source": [
        "\n",
        "N = int(input())\n",
        "\n",
        "if N == 0:\n",
        "    print(\"NULL\")\n",
        "else:\n",
        "\n",
        "    result = []\n",
        "    for i in range(1, N + 1):\n",
        "        result.append(str(9 * i))\n",
        "\n",
        "\n",
        "    print(\" \".join(result))\n"
      ],
      "metadata": {
        "colab": {
          "base_uri": "https://localhost:8080/"
        },
        "id": "s5vEJOSIBeip",
        "outputId": "f6fd3b10-6502-400a-ca92-9b4c7143abae"
      },
      "execution_count": 31,
      "outputs": [
        {
          "output_type": "stream",
          "name": "stdout",
          "text": [
            "3\n",
            "9 18 27\n"
          ]
        }
      ]
    },
    {
      "cell_type": "markdown",
      "source": [
        "Question 12\n",
        "\n",
        "You are given with a number \"N\", find its cube."
      ],
      "metadata": {
        "id": "Gf87wsWHEoWD"
      }
    },
    {
      "cell_type": "code",
      "source": [
        "N = int(input())\n",
        "cube = n**3\n",
        "print(cube)"
      ],
      "metadata": {
        "colab": {
          "base_uri": "https://localhost:8080/"
        },
        "id": "8iD8crODDFlZ",
        "outputId": "bf6d8ef8-375e-435d-8fc9-04d930721fd9"
      },
      "execution_count": 32,
      "outputs": [
        {
          "output_type": "stream",
          "name": "stdout",
          "text": [
            "2\n",
            "8\n"
          ]
        }
      ]
    },
    {
      "cell_type": "markdown",
      "source": [
        "Question 13\n",
        "\n",
        "You are given Two Numbers, A and B. If C = A + B. Find C."
      ],
      "metadata": {
        "id": "RfL8B5xaGlWv"
      }
    },
    {
      "cell_type": "code",
      "source": [
        "A = int(input())\n",
        "B = int(input())\n",
        "\n",
        "C = A + B\n",
        "\n",
        "print(C)"
      ],
      "metadata": {
        "colab": {
          "base_uri": "https://localhost:8080/"
        },
        "id": "gvwYe-uOEvVr",
        "outputId": "45ccdbce-0346-45c9-d731-41000058366f"
      },
      "execution_count": 37,
      "outputs": [
        {
          "output_type": "stream",
          "name": "stdout",
          "text": [
            "4 \n",
            "5\n",
            "9\n"
          ]
        }
      ]
    },
    {
      "cell_type": "markdown",
      "source": [
        "Question 14\n",
        "\n",
        "You are given with a number A i.e. the temperature in Celcius. Write a program to convert this into Fahrenheit."
      ],
      "metadata": {
        "id": "j7ACjeLvIJ4J"
      }
    },
    {
      "cell_type": "code",
      "source": [
        "A = float(input())\n",
        "Fahrenheit = (A * 9/5) + 32\n",
        "print(f\"{Fahrenheit:.2f}\")"
      ],
      "metadata": {
        "colab": {
          "base_uri": "https://localhost:8080/"
        },
        "id": "3R5SUxdDF069",
        "outputId": "3270555e-bb48-4912-9c37-6e524cdd79fe"
      },
      "execution_count": 38,
      "outputs": [
        {
          "output_type": "stream",
          "name": "stdout",
          "text": [
            "12\n",
            "53.60\n"
          ]
        }
      ]
    },
    {
      "cell_type": "markdown",
      "source": [
        "Question 15\n",
        "\n",
        "You are given with Principle amount($), Interest Rate(%) and Time (years) in that order. Find Simple Interest.\n",
        "\n",
        "Print the output up to two decimal places (Round-off if necessary).\n",
        "\n",
        "(S.I. = P*T*R/100)"
      ],
      "metadata": {
        "id": "ySYtJbXOJhCJ"
      }
    },
    {
      "cell_type": "code",
      "source": [
        "P,I,T = input().split()\n",
        "\n",
        "\n",
        "P = int(P)\n",
        "I = float(I)\n",
        "T = int(T)\n",
        "\n",
        "S = P*T*I/100\n",
        "\n",
        "print(f\"{S:.2f}\")"
      ],
      "metadata": {
        "colab": {
          "base_uri": "https://localhost:8080/"
        },
        "id": "w3nI8EwgICr5",
        "outputId": "00c37984-4012-4e98-ede2-49e7e656ae91"
      },
      "execution_count": 41,
      "outputs": [
        {
          "output_type": "stream",
          "name": "stdout",
          "text": [
            "100 2 5\n",
            "10.00\n"
          ]
        }
      ]
    },
    {
      "cell_type": "markdown",
      "source": [
        "Question 16\n",
        "\n",
        "The area of an equilateral triangle is ¼(√3a2) where \"a\" represents a side of the triangle. You are provided with the side \"a\". Find the area of the equilateral triangle."
      ],
      "metadata": {
        "id": "L_szkojRKQGI"
      }
    },
    {
      "cell_type": "code",
      "source": [
        "import math\n",
        "\n",
        "\n",
        "a = int(input())\n",
        "\n",
        "area = (math.sqrt(3) / 4) * (a ** 2)\n",
        "print(f\"{area:.2f}\")\n"
      ],
      "metadata": {
        "colab": {
          "base_uri": "https://localhost:8080/"
        },
        "id": "c6KRnvEAIs8K",
        "outputId": "7997dcf4-50c6-4307-abd4-4f488abd9041"
      },
      "execution_count": 42,
      "outputs": [
        {
          "output_type": "stream",
          "name": "stdout",
          "text": [
            "20\n",
            "173.21\n"
          ]
        }
      ]
    },
    {
      "cell_type": "markdown",
      "source": [
        "question 18\n",
        "\n",
        "You are provided with a number, \"N\". Find its factorial."
      ],
      "metadata": {
        "id": "oi4_9lU-K27_"
      }
    },
    {
      "cell_type": "code",
      "source": [
        "N = int(input())\n",
        "factorial = 1\n",
        "if N == 0:\n",
        "    print(\"1\")\n",
        "else:\n",
        "    for i in range(1, N + 1):\n",
        "        factorial *= i\n",
        "    print(factorial)"
      ],
      "metadata": {
        "colab": {
          "base_uri": "https://localhost:8080/"
        },
        "id": "94oVJ0X2KJxZ",
        "outputId": "d362a409-c94b-496e-b37b-53935638348b"
      },
      "execution_count": 43,
      "outputs": [
        {
          "output_type": "stream",
          "name": "stdout",
          "text": [
            "Enter a number: 2\n",
            "2\n"
          ]
        }
      ]
    },
    {
      "cell_type": "markdown",
      "source": [
        "question 24\n",
        "\n",
        "Let \"A\" be a year, write a program to check whether this year is a leap year or not.\n",
        "\n",
        "Print \"Y\" if its a leap year and \"N\" if its a common year."
      ],
      "metadata": {
        "id": "T2iqQFX2LUxU"
      }
    },
    {
      "cell_type": "code",
      "source": [
        "# Input\n",
        "A = int(input(\"Enter a year: \"))\n",
        "\n",
        "# Check if the year is a leap year\n",
        "if (A % 4 == 0 and A % 100 != 0) or (A % 400 == 0):\n",
        "    print(\"Y\")  # Leap year\n",
        "else:\n",
        "    print(\"N\")  # Common year"
      ],
      "metadata": {
        "colab": {
          "base_uri": "https://localhost:8080/"
        },
        "id": "OyzThIoyKpyU",
        "outputId": "7d59a2d0-2d90-4ef2-db20-76419e156f83"
      },
      "execution_count": 44,
      "outputs": [
        {
          "output_type": "stream",
          "name": "stdout",
          "text": [
            "Enter a year: 2020\n",
            "Y\n"
          ]
        }
      ]
    },
    {
      "cell_type": "markdown",
      "source": [
        "question 26\n",
        "\n",
        "Let \"A\"  be a string. Remove all the whitespaces and find it's length."
      ],
      "metadata": {
        "id": "PWzDIUUPL4nM"
      }
    },
    {
      "cell_type": "code",
      "source": [
        "# Input\n",
        "A = input(\"Enter a string: \")\n",
        "\n",
        "# Remove all whitespaces\n",
        "A_without_spaces = A.replace(\" \", \"\")\n",
        "\n",
        "# Find the length of the string without spaces\n",
        "length = len(A_without_spaces)\n",
        "\n",
        "# Output the length\n",
        "print(length)\n"
      ],
      "metadata": {
        "colab": {
          "base_uri": "https://localhost:8080/"
        },
        "id": "V6wwegyoLaUO",
        "outputId": "1f791328-f3b1-41c4-e2be-9ed6ef92a961"
      },
      "execution_count": 45,
      "outputs": [
        {
          "output_type": "stream",
          "name": "stdout",
          "text": [
            "Enter a string: Lorem Ipsum\n",
            "10\n"
          ]
        }
      ]
    },
    {
      "cell_type": "markdown",
      "source": [
        "Question 28\n",
        "\n",
        "You are provided with two numbers. Find and print the smaller number."
      ],
      "metadata": {
        "id": "ak9XEkw8MPgw"
      }
    },
    {
      "cell_type": "code",
      "source": [
        "N,M = map(int,input().split())\n",
        "small = min(N,M)\n",
        "print(small)"
      ],
      "metadata": {
        "colab": {
          "base_uri": "https://localhost:8080/"
        },
        "id": "j68rvYpGL13k",
        "outputId": "eb8bc30e-3719-4b69-9791-fd3151d07104"
      },
      "execution_count": 47,
      "outputs": [
        {
          "output_type": "stream",
          "name": "stdout",
          "text": [
            "23 1\n",
            "1\n"
          ]
        }
      ]
    },
    {
      "cell_type": "code",
      "source": [],
      "metadata": {
        "id": "cTJwR3fDMaAK"
      },
      "execution_count": null,
      "outputs": []
    }
  ]
}